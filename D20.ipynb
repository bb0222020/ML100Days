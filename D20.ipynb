{
 "cells": [
  {
   "cell_type": "code",
   "execution_count": 4,
   "metadata": {},
   "outputs": [],
   "source": [
    "#作業\n",
    "#1. 在速度較慢的時候，可以先從哪邊開始檢查？"
   ]
  },
  {
   "cell_type": "code",
   "execution_count": null,
   "metadata": {},
   "outputs": [],
   "source": [
    "#Answer 1: (1)可以檢查程式所讀取資料的型態，能試著使用 pkl檔讀取看看。 (2)程式當中所使用的函式，是否為內建函數。 (3)資料處理的方式是否向量化。"
   ]
  },
  {
   "cell_type": "code",
   "execution_count": null,
   "metadata": {},
   "outputs": [],
   "source": [
    "#2. 資料過⼤時應採取什麼⽅式讓記憶體占⽤量下降？\n",
    "#Answer 2:如果當處理的資料過大時，可以透過將處理的欄位型態降級的方法，這樣一個數字中就不需要儲存太多元素，有助於減少記憶體佔用空間。"
   ]
  }
 ],
 "metadata": {
  "kernelspec": {
   "display_name": "Python 3",
   "language": "python",
   "name": "python3"
  },
  "language_info": {
   "codemirror_mode": {
    "name": "ipython",
    "version": 3
   },
   "file_extension": ".py",
   "mimetype": "text/x-python",
   "name": "python",
   "nbconvert_exporter": "python",
   "pygments_lexer": "ipython3",
   "version": "3.8.5"
  }
 },
 "nbformat": 4,
 "nbformat_minor": 4
}
