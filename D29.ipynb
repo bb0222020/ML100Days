{
 "cells": [
  {
   "cell_type": "markdown",
   "metadata": {
    "id": "H-z4L8J371GO"
   },
   "source": [
    "## 作業:\n",
    "今天學到不同統計量之間特性，  \n",
    "試著分析男生女生身高資料，  \n",
    "試著回答下面的問題:  \n",
    "Q1:試著用今天所教的內容，如何描述這兩組資料的樣態?    \n",
    "Q2: 請問男生和女生在平均身高上誰比較高?   \n",
    "Q3:請問第二題的答案和日常生活中觀察的一致嗎? 如果不一致，你覺得原因可能為何?    \n",
    "上述問題透過  python 語法進行運算，\n",
    "並將上述答案填寫在 (google 表單)[https://docs.google.com/forms/d/e/1FAIpQLSdDzwpeJl8YLPwZaW8pBZvtuXY9kIbbZLqxcXyzFaoraV5JEA/viewform ]\n",
    "![](作業資料圖檔.PNG)"
   ]
  },
  {
   "cell_type": "code",
   "execution_count": 1,
   "metadata": {
    "id": "yz28_IgkYdBW"
   },
   "outputs": [],
   "source": [
    "# library\n",
    "import matplotlib.pyplot as plt\n",
    "import numpy as np\n",
    "import pandas as pd\n",
    "from scipy import stats\n",
    "import math\n",
    "import statistics\n",
    "import seaborn as sns"
   ]
  },
  {
   "cell_type": "code",
   "execution_count": 10,
   "metadata": {
    "id": "3NtzuWtt71GU",
    "outputId": "be21c4eb-a6c2-4674-aadd-d378bafc0428"
   },
   "outputs": [
    {
     "name": "stdout",
     "output_type": "stream",
     "text": [
      "     0    1    2    3\n",
      "0  164  175  183  173\n",
      "1  176  159  165  165\n",
      "2  169  151  156  163\n",
      "3  169  144  170  177\n",
      "4  165  160  164  171\n",
      "     0    1    2    3\n",
      "0  169  170  162  154\n",
      "1  183  173  169  167\n",
      "2  170  185  162  175\n",
      "3  168  151  181  170\n",
      "4  182  156  159  160\n"
     ]
    }
   ],
   "source": [
    "## 輸入資料\n",
    "boy_sample=pd.DataFrame([[164,175,183,173],[176,159,165,165],[169,151,156,163],[169,144,170,177],[165,160,164,171]])\n",
    "print(boy_sample)\n",
    "girl_sample=pd.DataFrame([[169,170,162,154],[183,173,169,167],[170,185,162,175],[168,151,181,170],[182,156,159,160]])\n",
    "print(girl_sample)"
   ]
  },
  {
   "cell_type": "code",
   "execution_count": 46,
   "metadata": {
    "id": "uDM9AzrY71GW",
    "outputId": "f4e7ede3-fda9-4858-f122-af7c3b3f3ad4"
   },
   "outputs": [
    {
     "name": "stdout",
     "output_type": "stream",
     "text": [
      "平均數:\n",
      "boy_sample平均數: 165.95\n",
      "girl_sample平均數: 168.3\n",
      "眾數:\n",
      "boy_sample眾數: 165\n",
      "girl_sample眾數: 170\n",
      "中位數:\n",
      "boy_sample中位數: 165.0\n",
      "girl_sample中位數: 169.0\n",
      "變異數\n",
      "boy_sample變異數: 84.8921052631579\n",
      "girl_sample變異數: 95.37894736842104\n",
      "全距\n",
      "boy_sample全距: 39\n",
      "girl_sample全距: 34\n",
      "偏度\n",
      "boy_sample偏度: -0.4713212731737694\n",
      "girl_sample偏度: 0.059853211293650746\n",
      "峰度\n",
      "boy_sample偏度: 0.19395882957876243\n",
      "girl_sample偏度: -0.8203607083948947\n"
     ]
    }
   ],
   "source": [
    "#Q1:試著用今天所教的內容，如何描述這兩組資料的樣態?\n",
    "#暗示:  分別計算男生和女生的統計量\n",
    "#集中趨勢\n",
    "#平均數\n",
    "print('平均數:')\n",
    "print('boy_sample平均數:',np.mean(np.mean(boy_sample)))\n",
    "print('girl_sample平均數:',np.mean(np.mean(girl_sample)))\n",
    "#眾數\n",
    "print('眾數:')\n",
    "print('boy_sample眾數:',stats.mode(boy_sample.values.flatten())[0][0])\n",
    "print('girl_sample眾數:',stats.mode(girl_sample.values.flatten())[0][0])\n",
    "#中位數\n",
    "print('中位數:')\n",
    "print('boy_sample中位數:',np.median(boy_sample.values.flatten()))\n",
    "print('girl_sample中位數:',np.median(girl_sample.values.flatten()))\n",
    "\n",
    "\n",
    "#離散程度\n",
    "print('變異數')\n",
    "print('boy_sample變異數:',np.var(boy_sample.values.flatten(),ddof=1))\n",
    "print('girl_sample變異數:',np.var(girl_sample.values.flatten(),ddof=1))\n",
    "\n",
    "print('全距')\n",
    "def Range(x):\n",
    "    return max(x)-min(x)\n",
    "print('boy_sample全距:',Range(boy_sample.values.flatten()))\n",
    "print('girl_sample全距:',Range(girl_sample.values.flatten()))\n",
    "\n",
    "#分佈型態\n",
    "print('偏度')\n",
    "print('boy_sample偏度:',stats.skew(boy_sample.values.flatten()))\n",
    "print('girl_sample偏度:',stats.skew(girl_sample.values.flatten()))\n",
    "\n",
    "print('峰度')\n",
    "print('boy_sample偏度:',stats.kurtosis(boy_sample.values.flatten()))\n",
    "print('girl_sample偏度:',stats.kurtosis(girl_sample.values.flatten()))\n"
   ]
  },
  {
   "cell_type": "code",
   "execution_count": 47,
   "metadata": {
    "id": "xH_GNsC271GW",
    "outputId": "f4b4c46a-0d8b-421c-9c70-0ebf2aab0e31"
   },
   "outputs": [
    {
     "data": {
      "text/plain": [
       "True"
      ]
     },
     "execution_count": 47,
     "metadata": {},
     "output_type": "execute_result"
    }
   ],
   "source": [
    "#Q2: 請問男生和女生在平均身高上誰比較高? \n",
    "np.mean(np.mean(girl_sample))>np.mean(np.mean(boy_sample))\n",
    "print('女生平均身高較高')"
   ]
  },
  {
   "cell_type": "code",
   "execution_count": 49,
   "metadata": {
    "id": "xAzZU0Dv71GX",
    "outputId": "e2017c09-70fc-41ab-99c0-9d41fe21629d"
   },
   "outputs": [
    {
     "name": "stdout",
     "output_type": "stream",
     "text": [
      "不一致，有可能是因為抽取的樣本還不夠多，造成樣本無法表達母體。\n"
     ]
    }
   ],
   "source": [
    "#Q3:請問第二題的答案和日常生活中觀察的一致嗎? 如果不一致，你覺得原因可能為何? \n",
    "print('不一致，有可能是因為抽取的樣本還不夠多，造成樣本無法表達母體。')"
   ]
  },
  {
   "cell_type": "code",
   "execution_count": null,
   "metadata": {},
   "outputs": [],
   "source": []
  }
 ],
 "metadata": {
  "colab": {
   "collapsed_sections": [],
   "name": "作業.ipynb",
   "provenance": []
  },
  "kernelspec": {
   "display_name": "Python 3",
   "language": "python",
   "name": "python3"
  },
  "language_info": {
   "codemirror_mode": {
    "name": "ipython",
    "version": 3
   },
   "file_extension": ".py",
   "mimetype": "text/x-python",
   "name": "python",
   "nbconvert_exporter": "python",
   "pygments_lexer": "ipython3",
   "version": "3.8.5"
  }
 },
 "nbformat": 4,
 "nbformat_minor": 1
}
